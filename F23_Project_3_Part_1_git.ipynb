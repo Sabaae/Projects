{
  "nbformat": 4,
  "nbformat_minor": 0,
  "metadata": {
    "colab": {
      "provenance": []
    },
    "kernelspec": {
      "display_name": "Python 3",
      "language": "python",
      "name": "python3"
    },
    "language_info": {
      "codemirror_mode": {
        "name": "ipython",
        "version": 3
      },
      "file_extension": ".py",
      "mimetype": "text/x-python",
      "name": "python",
      "nbconvert_exporter": "python",
      "pygments_lexer": "ipython3",
      "version": "3.7.4"
    }
  },
  "cells": [
    {
      "cell_type": "markdown",
      "metadata": {
        "id": "OTpnyUEJrAjE"
      },
      "source": [
        "# Project 3 - Part 1, Git Practice, APS1070 Fall 2023\n",
        "\n",
        "**Deadline: November 3rd, 23:00**\n",
        "\n",
        "**Academic Integrity**\n",
        "\n",
        "This project is individual - it is to be completed on your own. If you have questions, please post your query in the APS1070 Piazza Q&A forums (the answer might be useful to others!).\n",
        "\n",
        "Do not share your code with others, or post your work online. Do not submit code that you have not written yourself. Students suspected of plagiarism on a project, midterm or exam will be referred to the department for formal discipline for breaches of the Student Code of Conduct."
      ]
    },
    {
      "cell_type": "markdown",
      "metadata": {
        "id": "fUdJ6xw3rJIG"
      },
      "source": [
        "Please fill out the following:\n",
        "\n",
        "\n",
        "*   Your **name**:\n",
        "*   Your **student number**:\n",
        "\n"
      ]
    },
    {
      "cell_type": "markdown",
      "metadata": {
        "id": "sy0M4UZZNEk2"
      },
      "source": [
        "## Part 1: Getting started with Github [1 Mark + 1 Mark Git Submission]\n",
        "\n",
        "1. Write a function to do the following: **[0.25]**\n",
        "    * Takes the dataframe, and your city list as inputs (Yakeshi, Zamboanga, Norilsk, ...)\n",
        "    * Plots time-series for the input list (it is best to plot each city in a separate graph (subplot), so you can easily compare them.)\n",
        "    \n",
        "2. Apply `StandardScalar` to the data. Each month should have a `mean` of zero and a `StD` of 1. **[0.25]**\n",
        "3. Run the function in `step 1` on the standardized dataset for the `Yakeshi`, `Zamboanga`, `Norilsk`, `Juliaca`, and `Doha`.   **[0.25]**\n",
        "4. Discuss the trends in the standardized time-series for the `Yakeshi`, `Zamboanga`, `Norilsk`, `Juliaca`, and `Doha`. What does it mean if the curve goes up or down? What does the sign of values indicate? **[0.25]**"
      ]
    },
    {
      "cell_type": "code",
      "metadata": {
        "id": "6ZKR243TOERR"
      },
      "source": [
        "import pandas as pd\n",
        "data_raw = pd.read_csv(\n",
        "    filepath_or_buffer='https://raw.githubusercontent.com/Sabaae/Dataset/main/TemperaturesbyCity.csv',\n",
        "    index_col=0\n",
        ")"
      ],
      "execution_count": null,
      "outputs": []
    },
    {
      "cell_type": "code",
      "source": [
        "### YOUR CODE HERE ###"
      ],
      "metadata": {
        "id": "gUQHtDx6QbYQ"
      },
      "execution_count": null,
      "outputs": []
    }
  ]
}