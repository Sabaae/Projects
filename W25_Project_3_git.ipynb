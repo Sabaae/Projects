{
  "nbformat": 4,
  "nbformat_minor": 0,
  "metadata": {
    "colab": {
      "provenance": []
    },
    "kernelspec": {
      "display_name": "Python 3",
      "language": "python",
      "name": "python3"
    },
    "language_info": {
      "codemirror_mode": {
        "name": "ipython",
        "version": 3
      },
      "file_extension": ".py",
      "mimetype": "text/x-python",
      "name": "python",
      "nbconvert_exporter": "python",
      "pygments_lexer": "ipython3",
      "version": "3.7.4"
    }
  },
  "cells": [
    {
      "cell_type": "markdown",
      "metadata": {
        "id": "OTpnyUEJrAjE"
      },
      "source": [
        "# Project 3 - Part 1, Git Practice, APS1070 Winter 2025\n",
        "\n",
        "**Deadline: March 10th, 17:00**\n",
        "\n",
        "**Academic Integrity**\n",
        "\n",
        "This project is individual - it is to be completed on your own. If you have questions, please post your query in the APS1070 Piazza Q&A forums (the answer might be useful to others!).\n",
        "\n",
        "Do not share your code with others, or post your work online. Do not submit code that you have not written yourself without proper acknowledgment of the source, including generated code (please refer to the course syllabus). Students suspected of plagiarism on a project, midterm or exam will be referred to the department for formal discipline for breaches of the Student Code of Conduct."
      ]
    },
    {
      "cell_type": "markdown",
      "source": [
        "Name: ___  *(here and elsewhere, please replace the underscore with your answer)*\n",
        "\n",
        "Student ID: ___"
      ],
      "metadata": {
        "id": "HhMmkomwnQFt"
      }
    },
    {
      "cell_type": "markdown",
      "source": [
        "## Part 1: Getting started with GitHub [1.5 Marks + 1.5 Mark Git Submission]"
      ],
      "metadata": {
        "id": "66oqNsbgnsvV"
      }
    },
    {
      "cell_type": "markdown",
      "source": [
        "For the first four parts (Part 1-4) of this project, we will work on a [emissions of air pollutants dataset](https://ourworldindata.org/explorers/air-pollution) which reports the organic carbon molecules in tonnes from 2000 onwards for over 200 countries and regions worldwide."
      ],
      "metadata": {
        "id": "r5Fwvjw3n45P"
      }
    },
    {
      "cell_type": "markdown",
      "metadata": {
        "id": "sy0M4UZZNEk2"
      },
      "source": [
        "1. Write a function to do the following: **[0.5]**\n",
        "    * Takes the dataframe, and your list of countries/regions as inputs (Afghanistan, Africa, Albania, ...)\n",
        "    * Plots time-series for the input list (it is best to plot each country in a separate graph (subplot), so you can easily compare them.)\n",
        "    \n",
        "2. Apply `StandardScalar` to the data. Each year should have a `mean` of zero and a `StD` of 1. **[0.25]**\n",
        "3. Pick three countries with the closest alphabetical names to your first name.\n",
        "4. Run the function in `step 1` on both the original as well as the standardized dataset for the three countries you picked in `step 3` plus `China`,`Germany`, and `Bhutan`.   **[0.25]**\n",
        "5. Discuss the trends in the standardized time-series for all these countries. What does it mean if the curve goes up or down? What does the sign of values indicate? **[0.5]**"
      ]
    },
    {
      "cell_type": "code",
      "metadata": {
        "id": "6ZKR243TOERR"
      },
      "source": [
        "import pandas as pd\n",
        "data_raw = pd.read_csv(\n",
        "    filepath_or_buffer='https://raw.githubusercontent.com/Sabaae/Dataset/main/organic_carbon_emissions_by_country.csv',\n",
        "    index_col=0\n",
        ")"
      ],
      "execution_count": null,
      "outputs": []
    },
    {
      "cell_type": "code",
      "source": [
        "### YOUR CODE HERE ###"
      ],
      "metadata": {
        "id": "gUQHtDx6QbYQ"
      },
      "execution_count": null,
      "outputs": []
    }
  ]
}